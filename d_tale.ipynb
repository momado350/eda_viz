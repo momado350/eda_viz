{
 "cells": [
  {
   "cell_type": "code",
   "execution_count": 2,
   "metadata": {},
   "outputs": [],
   "source": [
    "#!pip install dtale"
   ]
  },
  {
   "cell_type": "code",
   "execution_count": 3,
   "metadata": {},
   "outputs": [
    {
     "name": "stderr",
     "output_type": "stream",
     "text": [
      "2020-10-10 21:46:56,525 - INFO     - NumExpr defaulting to 8 threads.\n"
     ]
    },
    {
     "data": {
      "text/html": [
       "\n",
       "        <iframe\n",
       "            width=\"100%\"\n",
       "            height=\"475\"\n",
       "            src=\"http://LAPTOP-UQOFE0KD:40000/dtale/iframe/1\"\n",
       "            frameborder=\"0\"\n",
       "            allowfullscreen\n",
       "        ></iframe>\n",
       "        "
      ],
      "text/plain": [
       "<IPython.lib.display.IFrame at 0x1d031c092b0>"
      ]
     },
     "metadata": {},
     "output_type": "display_data"
    },
    {
     "data": {
      "text/plain": []
     },
     "execution_count": 3,
     "metadata": {},
     "output_type": "execute_result"
    },
    {
     "name": "stdout",
     "output_type": "stream",
     "text": [
      "{'metas': '<meta http-equiv=\"X-UA-Compatible\" content=\"IE=edge\">\\n      <meta charset=\"UTF-8\">', 'title': 'Dash', 'css': '<link rel=\"stylesheet\" href=\"/css/main.css\">\\n<link rel=\"stylesheet\" href=\"/css/dash.css\">\\n<link rel=\"stylesheet\" href=\"/css/github_fork.css\">', 'config': '<script id=\"_dash-config\" type=\"application/json\">{\"url_base_pathname\": null, \"requests_pathname_prefix\": \"/charts/\", \"ui\": false, \"props_check\": false, \"show_undo_redo\": false, \"suppress_callback_exceptions\": true, \"update_title\": \"Updating...\"}</script>', 'scripts': '<script src=\"/charts/_dash-component-suites/dash_renderer/polyfill@7.v1_8_2m1602384346.8.7.min.js\"></script>\\n<script src=\"/charts/_dash-component-suites/dash_renderer/react@16.v1_8_2m1602384346.13.0.min.js\"></script>\\n<script src=\"/charts/_dash-component-suites/dash_renderer/react-dom@16.v1_8_2m1602384346.13.0.min.js\"></script>\\n<script src=\"/charts/_dash-component-suites/dash_renderer/prop-types@15.v1_8_2m1602384346.7.2.min.js\"></script>\\n<script src=\"/dash/components_bundle.js\"></script>\\n<script src=\"/dash/custom_bundle.js\"></script>\\n<script src=\"/dist/base_styles_bundle.js\"></script>\\n<script src=\"/charts/_dash-component-suites/dash_bootstrap_components/_components/dash_bootstrap_components.v0_10_7m1602384352.min.js\"></script>\\n<script src=\"/charts/_dash-component-suites/dash_core_components/async-datepicker.v1_12_1m1602384346.js\"></script>\\n<script src=\"/charts/_dash-component-suites/dash_core_components/async-dropdown.v1_12_1m1602384346.js\"></script>\\n<script src=\"/charts/_dash-component-suites/dash_core_components/async-graph.v1_12_1m1602384347.js\"></script>\\n<script src=\"/charts/_dash-component-suites/dash_core_components/async-highlight.v1_12_1m1602384347.js\"></script>\\n<script src=\"/charts/_dash-component-suites/dash_core_components/async-markdown.v1_12_1m1602384347.js\"></script>\\n<script src=\"/charts/_dash-component-suites/dash_core_components/async-slider.v1_12_1m1602384347.js\"></script>\\n<script src=\"/charts/_dash-component-suites/dash_core_components/async-upload.v1_12_1m1602384347.js\"></script>\\n<script src=\"/charts/_dash-component-suites/dash_core_components/dash_core_components.v1_12_1m1602384347.min.js\"></script>\\n<script src=\"/charts/_dash-component-suites/dash_core_components/dash_core_components-shared.v1_12_1m1602384347.js\"></script>\\n<script src=\"/charts/_dash-component-suites/dash_core_components/plotly.v1_12_1m1602384347.min.js\"></script>\\n<script src=\"/charts/_dash-component-suites/dash_colorscales/bundle.v0_0_4m1602384353.js\"></script>\\n<script src=\"/charts/_dash-component-suites/dash_daq/async-colorpicker.v0_5_0m1602384349.js\"></script>\\n<script src=\"/charts/_dash-component-suites/dash_daq/async-slider.v0_5_0m1602384350.js\"></script>\\n<script src=\"/charts/_dash-component-suites/dash_daq/dash_daq.v0_5_0m1602384350.min.js\"></script>\\n<script src=\"/charts/_dash-component-suites/dash_html_components/dash_html_components.v1_1_1m1602384347.min.js\"></script>\\n<script src=\"/charts/_dash-component-suites/dash_renderer/dash_renderer.v1_8_2m1602384346.min.js\"></script>', 'app_entry': '\\n<div id=\"react-entry-point\">\\n    <div class=\"_dash-loading\">\\n        Loading...\\n    </div>\\n</div>\\n', 'favicon': '<link rel=\"icon\" type=\"image/x-icon\" href=\"/charts/_favicon.ico?v=1.16.3\">', 'renderer': '<script id=\"_dash-renderer\" type=\"application/javascript\">var renderer = new DashRenderer();</script>'}\n"
     ]
    }
   ],
   "source": [
    "import dtale\n",
    "import pandas as pd\n",
    "\n",
    "dtale.show(pd.read_csv(\"titanic_train.csv\"))"
   ]
  },
  {
   "cell_type": "code",
   "execution_count": null,
   "metadata": {},
   "outputs": [],
   "source": []
  }
 ],
 "metadata": {
  "kernelspec": {
   "display_name": "Python 3.6.10 64-bit ('PythonData': conda)",
   "language": "python",
   "name": "python361064bitpythondataconda78ac61cb7ad5453197bfca4731d0b634"
  },
  "language_info": {
   "codemirror_mode": {
    "name": "ipython",
    "version": 3
   },
   "file_extension": ".py",
   "mimetype": "text/x-python",
   "name": "python",
   "nbconvert_exporter": "python",
   "pygments_lexer": "ipython3",
   "version": "3.6.10"
  }
 },
 "nbformat": 4,
 "nbformat_minor": 4
}
